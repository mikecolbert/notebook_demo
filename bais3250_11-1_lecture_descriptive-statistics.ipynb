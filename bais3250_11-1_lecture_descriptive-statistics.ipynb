{
 "cells": [
  {
   "cell_type": "markdown",
   "id": "81466116-50ac-446c-bc59-cd81eada7429",
   "metadata": {},
   "source": [
    "# BAIS:3250 - Data Wrangling\n",
    "## Descriptive Statistics\n",
    "___ \n"
   ]
  },
  {
   "cell_type": "markdown",
   "id": "85d1676e-7dc1-41f6-8452-4f5e3569c71f",
   "metadata": {},
   "source": [
    "Libraries used:\n",
    "\n",
    "- _**pandas**_ for dataframes and data wrangling functions\n",
    "- _**matplotlib**_ for creating simple plots when performing exploratory data analysis\n",
    "- _**seaborn**_ is a high-level interface for creating visually appealing and informative statistical graphics\n",
    "- _**scipy.stats**_ are tools for both basic and advanced statistical operations\n"
   ]
  },
  {
   "cell_type": "code",
   "execution_count": null,
   "id": "8a797623-e111-4f64-ab96-df7f751b68ce",
   "metadata": {},
   "outputs": [],
   "source": [
    "import pandas as pd\n",
    "import matplotlib.pyplot as plt\n",
    "import seaborn as sns\n",
    "import scipy.stats as stats\n",
    "from scipy.stats import chi2_contingency\n",
    "from scipy.stats import pearsonr"
   ]
  },
  {
   "cell_type": "markdown",
   "id": "0c9e77bb-2491-4903-a769-d1cc97404352",
   "metadata": {},
   "source": [
    "### Read data into a pandas DataFrame"
   ]
  },
  {
   "cell_type": "code",
   "execution_count": null,
   "id": "b9c00e8e-c76e-46fb-aef8-bba9388df718",
   "metadata": {},
   "outputs": [],
   "source": [
    "# read in pipe delimited file named mortgage.txt\n",
    "mortgage_df = pd.read_csv(\"mortgage.txt\", encoding=\"utf-8\", sep=\"|\")\n",
    "\n",
    "display(mortgage_df)"
   ]
  },
  {
   "cell_type": "markdown",
   "id": "c9131a0e-140c-4cc7-84bd-5e273227663d",
   "metadata": {},
   "source": [
    "### Statistics for One Continuous Variable"
   ]
  },
  {
   "cell_type": "code",
   "execution_count": null,
   "id": "922c3449-de6f-489b-8073-50b9a1414d09",
   "metadata": {},
   "outputs": [],
   "source": [
    "print(mortgage_df[\"CreditScore\"].unique())"
   ]
  },
  {
   "cell_type": "code",
   "execution_count": null,
   "id": "fe1d1e0c-dcf9-4513-a007-dc0c35724d31",
   "metadata": {},
   "outputs": [],
   "source": [
    "mortgage_df.dtypes"
   ]
  },
  {
   "cell_type": "markdown",
   "id": "694c3157-703f-43bb-b314-2853690943dd",
   "metadata": {},
   "source": [
    "<font color=\"darkmagenta\">CreditScore is a numeric data type.</font>"
   ]
  },
  {
   "cell_type": "markdown",
   "id": "46c1a2bb-3574-4c32-839e-17e2eadf1139",
   "metadata": {},
   "source": [
    "<br>"
   ]
  },
  {
   "cell_type": "markdown",
   "id": "63f60516-da06-48d6-9cf1-33e2f1b05d74",
   "metadata": {},
   "source": [
    "#### .describe() function\n",
    "\n",
    "The ```.describe()``` function will automatically calculate many statistics for you with a single function."
   ]
  },
  {
   "cell_type": "code",
   "execution_count": null,
   "id": "08f80a11-1869-4a8e-8804-07645bb0cb9f",
   "metadata": {},
   "outputs": [],
   "source": [
    "# use the .describe() function\n",
    "descriptive_stats = mortgage_df[\"CreditScore\"].describe()\n",
    "\n",
    "# descriptive statistics\n",
    "print(descriptive_stats)\n"
   ]
  },
  {
   "cell_type": "markdown",
   "id": "40fb36ec-7b7a-4ace-9f33-04c8253dcf4b",
   "metadata": {},
   "source": [
    "<br>"
   ]
  },
  {
   "cell_type": "markdown",
   "id": "1792aeea-98fa-490f-9701-116db37a481e",
   "metadata": {},
   "source": [
    "#### Manually calculate descriptive statistics"
   ]
  },
  {
   "cell_type": "code",
   "execution_count": null,
   "id": "31456f08-77dc-4e62-ac17-19a9a50cb23f",
   "metadata": {},
   "outputs": [],
   "source": [
    "# define the dataframe and column we are studying\n",
    "column = mortgage_df[\"CreditScore\"]\n",
    "column_name = \"CreditScore\""
   ]
  },
  {
   "cell_type": "code",
   "execution_count": null,
   "id": "ee3c9ccd-3033-45fb-8e62-8f1abc33b8c2",
   "metadata": {},
   "outputs": [],
   "source": [
    "print(f\"Statistics of the {column_name} column\")\n",
    "print(\"-\"*50)\n",
    "\n",
    "print(f\"{column_name} count: {column.count()}\") # number of non-null entries\n",
    "print(f\"{column_name} mean: {column.mean()}\") # sum of all values / n\n",
    "\n",
    "\n",
    "# spread describes the extremes and variation \n",
    "print(f\"{column_name} min: {column.min()}\")\n",
    "print(f\"{column_name} 25%: {column.quantile(0.25)}\")  # 25th percentile\n",
    "print(f\"{column_name} median (50%): {column.median()}\")  # 50th percentile (same as 2nd quartile)\n",
    "print(f\"{column_name} 75%: {column.quantile(0.75)}\")  # 75th percentile\n",
    "print(f\"{column_name} max: {column.max()}\")\n",
    "print(f\"{column_name} interquartile range (IQR): {column.quantile(0.75) - column.quantile(0.25)}\")\n",
    "print(f\"{column_name} range: {column.max() - column.min()}\")\n",
    "\n",
    "# the most frequent value(s) - if multiple modes exist, it returns all of them as a Series\n",
    "modes = column.mode()\n",
    "# handle cases where there are multiple modes\n",
    "if len(modes) > 1:\n",
    "    print(f\"{column_name} modes: {list(modes)}\")\n",
    "else:\n",
    "    print(f\"{column_name} mode:  {modes[0]}\")\n",
    "\n",
    "print(\"-\"*10)\n",
    "\n",
    "# average of squared difference between each data point and the mean\n",
    "print(f\"{column_name} variance: {column.var()}\") \n",
    "print(f\"{column_name} std_dev: {column.std()}\") # square root of variance\n",
    "\n",
    "\n",
    "print(f\"{column_name} skewness: {column.skew()}\")\n",
    "\n",
    "\n",
    "print(f\"{column_name} kurtosis: {column.kurt()}\")\n"
   ]
  },
  {
   "cell_type": "markdown",
   "id": "97c547be-34a5-4636-96aa-d4330acc3c1e",
   "metadata": {},
   "source": [
    "<br>"
   ]
  },
  {
   "cell_type": "markdown",
   "id": "37b260d2-0485-42f0-8ca1-b9bb45e1fac8",
   "metadata": {},
   "source": [
    "#### Shape can be confirmed with visualization. Let's use _Seaborn_.\n",
    "\n",
    "##### Boxplot"
   ]
  },
  {
   "cell_type": "code",
   "execution_count": null,
   "id": "4562784c-e4eb-4206-832c-cd1454370986",
   "metadata": {},
   "outputs": [],
   "source": [
    "# set plot size\n",
    "plt.figure(figsize=(8, 6))\n",
    "\n",
    "# create a box plot for 'CreditScore'\n",
    "sns.boxplot(x=column, color=\"skyblue\")\n",
    "\n",
    "# add title and labels\n",
    "plt.title(\"Box Plot of Credit Scores\", fontsize=16)\n",
    "plt.xlabel(\"Credit Score\", fontsize=12)\n",
    "\n",
    "# display the plot\n",
    "plt.show()"
   ]
  },
  {
   "cell_type": "markdown",
   "id": "77d2cc89-857f-4f17-844c-33e4833e0459",
   "metadata": {},
   "source": [
    "<font color=\"darkmagenta\">Shape is symmetrical (not skewed), with few outliers.</font>"
   ]
  },
  {
   "cell_type": "markdown",
   "id": "c7b4f62a-34ae-4860-81b5-e6c761d08bf2",
   "metadata": {},
   "source": [
    "##### Histogram."
   ]
  },
  {
   "cell_type": "code",
   "execution_count": null,
   "id": "ee7d4888-949d-4e7a-a371-f581d7a14332",
   "metadata": {},
   "outputs": [],
   "source": [
    "# set plot size\n",
    "plt.figure(figsize=(8, 6))\n",
    "\n",
    "# create a histogram for 'CreditScore'\n",
    "sns.histplot(column, bins=20, kde=True)\n",
    "\n",
    "# add title and labels\n",
    "plt.title(\"Histogram of Credit Scores\", fontsize=16)\n",
    "plt.xlabel(\"Credit Score\", fontsize=12)\n",
    "plt.ylabel(\"Frequency\", fontsize=12)\n",
    "\n",
    "# display the plot\n",
    "plt.show()"
   ]
  },
  {
   "cell_type": "markdown",
   "id": "9e0e86b7-b383-483d-9c9d-d8fa76906cfd",
   "metadata": {},
   "source": [
    "<font color=\"darkmagenta\">Shape is symmetrical, and unimodal (one peak).  \n",
    "Somewhat bell-shaped (might be normally distributed).</font>  "
   ]
  },
  {
   "cell_type": "markdown",
   "id": "757921f4-e0ca-4b86-a063-21c655cbfabd",
   "metadata": {},
   "source": [
    "##### Check normality with a Q-Q plot.  \n",
    "A Quantile-Quantile plot compares actual quantiles to expected values under normal distribution "
   ]
  },
  {
   "cell_type": "markdown",
   "id": "64d07b6b-ccba-45f1-bcc3-2253b33fbc7e",
   "metadata": {},
   "source": [
    "```scipy.stats.probplot()``` creates the Q-Q plot.  \n",
    "```dist=\"norm\"``` specifies the theoretical distribution (normal) to compare against.  \n",
    "```plot=plt``` directs the plot to matplotlib for rendering."
   ]
  },
  {
   "cell_type": "code",
   "execution_count": null,
   "id": "814620b5-b607-4cae-a68e-aac8ebdf016c",
   "metadata": {},
   "outputs": [],
   "source": [
    "# create a Q-Q plot for 'CreditScore'\n",
    "stats.probplot(column, dist=\"norm\", plot=plt)\n",
    "\n",
    "# add title\n",
    "plt.title(\"Q-Q Plot of Credit Scores\")\n",
    "\n",
    "# display the plot\n",
    "plt.show()"
   ]
  },
  {
   "cell_type": "markdown",
   "id": "34f63a14-743b-46eb-9b09-297d2b8e42c4",
   "metadata": {},
   "source": [
    "<font color=\"darkmagenta\">Marks stay close to the red line, suggesting that credit scores in the data are very close to a normal distribution.</font>"
   ]
  },
  {
   "cell_type": "markdown",
   "id": "d2c580ef-e124-4b47-a021-fc9076923b51",
   "metadata": {},
   "source": [
    "<br>"
   ]
  },
  {
   "cell_type": "markdown",
   "id": "852c6ab3-a865-43d1-ad65-b80f7e2d1494",
   "metadata": {},
   "source": [
    "#### Shapiro-Wilk test\n",
    "The Shapiro test checks if a dataset follows a normal distribution.  \n",
    "**Null Hypothesis (H<sub>0</sub>)**: The data is normally distributed.  \n",
    "**Alternative Hypothesis (H<sub>1</sub>)**: The data is not normally distributed."
   ]
  },
  {
   "cell_type": "code",
   "execution_count": null,
   "id": "58185077-da56-4ba1-ba56-edbec0edc3a8",
   "metadata": {
    "scrolled": true
   },
   "outputs": [],
   "source": [
    "# Shapiro-Wilk test for normality\n",
    "stat, p_value = stats.shapiro(column)\n",
    "\n",
    "# display the results\n",
    "print(f\"Shapiro-Wilk Test Statistic: {stat}\")\n",
    "print(f\"P-Value: {p_value}\")\n",
    "\n",
    "# interpretation\n",
    "alpha = 0.05  # Significance level\n",
    "if p_value > alpha:\n",
    "    print(\"The data follows a normal distribution (fail to reject H0).\")\n",
    "else:\n",
    "    print(\"The data does not follow a normal distribution (reject H0).\")"
   ]
  },
  {
   "cell_type": "markdown",
   "id": "cfc572a3-5e82-48ed-b629-2d83f5d52ce3",
   "metadata": {},
   "source": [
    "<font color=\"darkmagenta\">Interpretation:  \n",
    "If **p-value > 0.05**, the data is normally distributed (fail to reject the null hypothesis H<sub>0</sub>).  \n",
    "If **p-value ≤ 0.05**, the data is not normally distributed (reject H<sub>0</sub>). </font>  "
   ]
  },
  {
   "cell_type": "markdown",
   "id": "c6462075-c037-410f-82e2-8ac2efdda541",
   "metadata": {},
   "source": [
    "<br>"
   ]
  },
  {
   "cell_type": "markdown",
   "id": "e3a9a86d-f39e-4bbb-a725-8c7d716718f3",
   "metadata": {},
   "source": [
    "### Statistics for One Categorical Variable"
   ]
  },
  {
   "cell_type": "markdown",
   "id": "41c2e2b4-f5da-41c0-bf84-178f8a402ea4",
   "metadata": {},
   "source": [
    "#### Make the column a _category_."
   ]
  },
  {
   "cell_type": "code",
   "execution_count": null,
   "id": "a907ceb5-ed2d-4f53-9e68-b4f1196dc1af",
   "metadata": {},
   "outputs": [],
   "source": [
    "print(mortgage_df[\"Default\"].unique())"
   ]
  },
  {
   "cell_type": "code",
   "execution_count": null,
   "id": "65a1de09-87b1-4a58-9bd6-313f054ff10c",
   "metadata": {},
   "outputs": [],
   "source": [
    "# change the column to a categorical data type\n",
    "mortgage_df[\"Default\"] = mortgage_df[\"Default\"].astype(\"category\")\n"
   ]
  },
  {
   "cell_type": "code",
   "execution_count": null,
   "id": "15f64973-181d-4e55-a180-e97c270ca654",
   "metadata": {},
   "outputs": [],
   "source": [
    "# verify it is a categorical data type\n",
    "print(mortgage_df[\"Default\"].dtypes)"
   ]
  },
  {
   "cell_type": "code",
   "execution_count": null,
   "id": "6462d557-ac6d-4adb-a78a-e6440759b0eb",
   "metadata": {},
   "outputs": [],
   "source": [
    "# rename the categorical column values with meaningful labels\n",
    "mortgage_df[\"Default\"] = mortgage_df[\"Default\"].cat.rename_categories({1: \"Defaulted\", 0: \"Not Defaulted\"})\n",
    "\n",
    "print(mortgage_df.head())\n"
   ]
  },
  {
   "cell_type": "markdown",
   "id": "9d3dc1a1-ab7d-4da3-b7e2-70b701490173",
   "metadata": {},
   "source": [
    "#### Frequency counts"
   ]
  },
  {
   "cell_type": "code",
   "execution_count": null,
   "id": "6f1f29b8-34df-452b-ba60-9ef7b3d734ec",
   "metadata": {},
   "outputs": [],
   "source": [
    "# define the dataframe and column we are studying\n",
    "column = mortgage_df[\"Default\"]\n",
    "column_name = \"Default\""
   ]
  },
  {
   "cell_type": "code",
   "execution_count": null,
   "id": "785d2551-60f9-44e4-b299-73fa2d7b961f",
   "metadata": {},
   "outputs": [],
   "source": [
    "# frequency counts\n",
    "default_counts = column.value_counts()\n",
    "print(\"Frequency Counts:\")\n",
    "print(default_counts)"
   ]
  },
  {
   "cell_type": "markdown",
   "id": "08e132ea-0615-4a35-94a5-9108cfda6f77",
   "metadata": {},
   "source": [
    "_Notice this is a Series and the row index are the values (Defaulted / Not Defaulted)._"
   ]
  },
  {
   "cell_type": "markdown",
   "id": "43222e34-e4bb-4cec-93d9-7bef9920c647",
   "metadata": {},
   "source": [
    "<br>"
   ]
  },
  {
   "cell_type": "markdown",
   "id": "f82e61d9-e4da-41df-be1e-379bc3e49915",
   "metadata": {},
   "source": [
    "Frequency counts sorted in descending order by **level**"
   ]
  },
  {
   "cell_type": "code",
   "execution_count": null,
   "id": "0c035857-3a17-4f92-879e-4eff795deebe",
   "metadata": {},
   "outputs": [],
   "source": [
    "# frequency counts sorted in descending order by the value\n",
    "default_counts = column.value_counts().sort_index(ascending=False)\n",
    "print(\"Frequency Counts (Sorted by Value):\")\n",
    "print(default_counts)"
   ]
  },
  {
   "cell_type": "markdown",
   "id": "754a66a2-e285-48f4-a17c-046c0adafb0a",
   "metadata": {},
   "source": [
    "Frequency counts sorted in descending order by **count value**"
   ]
  },
  {
   "cell_type": "code",
   "execution_count": null,
   "id": "de376c77-19ba-4f52-9e3e-7ff18140840b",
   "metadata": {},
   "outputs": [],
   "source": [
    "# frequency counts sorted in descending order by the count\n",
    "default_counts_sorted = column.value_counts().sort_values(ascending=False)\n",
    "print(\"\\nFrequency Counts (Sorted by Frequency):\")\n",
    "print(default_counts_sorted)"
   ]
  },
  {
   "cell_type": "markdown",
   "id": "d2ba74b8-c4e2-4d3c-a65a-4b1bdfe959c7",
   "metadata": {},
   "source": [
    "<br>"
   ]
  },
  {
   "cell_type": "markdown",
   "id": "7a6db4ae-d1ea-4e8f-9043-a66bebb4bd9f",
   "metadata": {},
   "source": [
    "#### Proportions table"
   ]
  },
  {
   "cell_type": "markdown",
   "id": "f0ad1a5f-c021-4934-8072-cb0d9b5dff46",
   "metadata": {},
   "source": [
    "A _proportions table_ is used to express counts as percentages or proportions of the total. It helps to understand the distribution of categorical data."
   ]
  },
  {
   "cell_type": "code",
   "execution_count": null,
   "id": "735ff5be-74d8-4a4f-a5ac-f36876f1be47",
   "metadata": {},
   "outputs": [],
   "source": [
    "# frequency counts\n",
    "default_counts = column.value_counts()\n",
    "\n",
    "# proportions table based on frequency counts\n",
    "proportions_table = default_counts / default_counts.sum()\n",
    "\n",
    "# Display the proportions table\n",
    "print(\"Proportions Table:\")\n",
    "print(proportions_table)"
   ]
  },
  {
   "cell_type": "markdown",
   "id": "71c570b5-e161-48b4-b971-cd2537e18763",
   "metadata": {},
   "source": [
    "<br>"
   ]
  },
  {
   "cell_type": "markdown",
   "id": "cf53ff05-4224-4773-bb3b-48e5cd563608",
   "metadata": {},
   "source": [
    "#### Visualizations"
   ]
  },
  {
   "cell_type": "markdown",
   "id": "efbb3341-ef03-43b1-86bf-c81ee83f8b7f",
   "metadata": {},
   "source": [
    "##### Create a simple bar chart with Seaborn"
   ]
  },
  {
   "cell_type": "code",
   "execution_count": null,
   "id": "3254c0c6-0385-4757-b555-4e6842d7e5ed",
   "metadata": {},
   "outputs": [],
   "source": [
    "# create a bar chart\n",
    "plt.figure(figsize=(8, 6))\n",
    "sns.barplot(x=default_counts.index, y=default_counts.values)\n",
    "\n",
    "# add title and labels\n",
    "plt.title(\"Frequency of Mortgage Defaults\", fontsize=16)\n",
    "plt.xlabel(\"Default (0 = Not Defaulted, 1 = Defaulted)\", fontsize=12)\n",
    "plt.ylabel(\"Count\", fontsize=12)\n",
    "\n",
    "# display the plot\n",
    "plt.show()"
   ]
  },
  {
   "cell_type": "markdown",
   "id": "0f472e8a-ddd5-48e1-9bbb-d97cab5a922c",
   "metadata": {},
   "source": [
    "<br>"
   ]
  },
  {
   "cell_type": "markdown",
   "id": "9ec7b8a4-d3a3-4dee-8254-d862fd62dce8",
   "metadata": {},
   "source": [
    "##### Create a _fancier_ bar chart with Seaborn"
   ]
  },
  {
   "cell_type": "code",
   "execution_count": null,
   "id": "77a413e6-2af3-4eda-b5f7-5751129e08be",
   "metadata": {},
   "outputs": [],
   "source": [
    "# convert 'Default' to string to use it as a hue\n",
    "mortgage_df[\"Default\"] = mortgage_df[\"Default\"].astype(str)\n",
    "\n",
    "# frequency counts of 'Default'\n",
    "default_counts = mortgage_df[\"Default\"].value_counts()\n",
    "\n",
    "# create a bar chart with different colors using hue\n",
    "plt.figure(figsize=(8, 6))\n",
    "ax = sns.barplot(\n",
    "    x=default_counts.index, \n",
    "    y=default_counts.values, \n",
    "    hue=default_counts.index, \n",
    "    palette=[\"skyblue\", \"salmon\"], \n",
    "    dodge=False,\n",
    "    legend=False  # suppress the legend\n",
    ")\n",
    "\n",
    "# add title and labels\n",
    "plt.title(\"Frequency of Mortgage Defaults\", fontsize=16)\n",
    "# plt.xlabel(\"Default (0 = Not Defaulted, 1 = Defaulted)\", fontsize=12)\n",
    "plt.ylabel(\"Count\", fontsize=12)\n",
    "\n",
    "# annotate each bar with its value\n",
    "for container in ax.containers:\n",
    "    ax.bar_label(container, label_type='edge', fontsize=12)\n",
    "\n",
    "# display the plot\n",
    "plt.show()\n"
   ]
  },
  {
   "cell_type": "markdown",
   "id": "394ee31c-9737-4fa9-bfeb-416ee7369ee3",
   "metadata": {},
   "source": [
    "##### Create a horizontal bar chart"
   ]
  },
  {
   "cell_type": "code",
   "execution_count": null,
   "id": "f91910ed-7564-418b-91d1-39489ae25556",
   "metadata": {},
   "outputs": [],
   "source": [
    "# convert 'Default' to string to use it as a hue\n",
    "mortgage_df[\"Default\"] = mortgage_df[\"Default\"].astype(str)\n",
    "\n",
    "# frequency counts of 'Default'\n",
    "default_counts = mortgage_df[\"Default\"].value_counts()\n",
    "\n",
    "# create a horizontal bar chart with different colors using hue\n",
    "plt.figure(figsize=(8, 6))\n",
    "ax = sns.barplot(\n",
    "    y=default_counts.index, \n",
    "    x=default_counts.values, \n",
    "    hue=default_counts.index, \n",
    "    palette=[\"skyblue\", \"salmon\"], \n",
    "    dodge=False, \n",
    "    legend=False  # Suppress the legend\n",
    ")\n",
    "\n",
    "# add title and labels\n",
    "plt.title(\"Frequency of Mortgage Defaults\", fontsize=16)\n",
    "# plt.ylabel(\"Default (0 = Not Defaulted, 1 = Defaulted)\", fontsize=12)\n",
    "plt.xlabel(\"Count\", fontsize=12)\n",
    "\n",
    "# annotate each bar with its value\n",
    "for container in ax.containers:\n",
    "    ax.bar_label(container, label_type='edge', fontsize=12)\n",
    "\n",
    "# dDisplay the plot\n",
    "plt.show()\n"
   ]
  },
  {
   "cell_type": "markdown",
   "id": "6a3f4698-9e40-4bd3-9b87-05281196c990",
   "metadata": {},
   "source": [
    "##### Create a pie chart"
   ]
  },
  {
   "cell_type": "code",
   "execution_count": null,
   "id": "0cdd5a9d-e18f-4035-bbe4-45314008a85f",
   "metadata": {},
   "outputs": [],
   "source": [
    "# Frequency counts of 'Default'\n",
    "default_counts = mortgage_df[\"Default\"].value_counts()\n",
    "\n",
    "# Create a pie chart\n",
    "plt.figure(figsize=(8, 8))\n",
    "plt.pie(\n",
    "    default_counts, \n",
    "    labels=[\"Not Defaulted\", \"Defaulted\"], \n",
    "    autopct=\"%1.1f%%\", \n",
    "    startangle=90, \n",
    "    colors=[\"skyblue\", \"salmon\"],\n",
    "    wedgeprops={\"edgecolor\": \"black\"}\n",
    ")\n",
    "\n",
    "# Add title\n",
    "plt.title(\"Proportion of Mortgage Defaults\", fontsize=16)\n",
    "\n",
    "# Display the pie chart\n",
    "plt.show()\n"
   ]
  },
  {
   "cell_type": "markdown",
   "id": "54781876-ea74-4ea7-a203-238bbd1b837a",
   "metadata": {},
   "source": [
    "_Note: Pie charts should not be used when there are many categories (rule of thumb: <= 5) or when categories overlap._"
   ]
  },
  {
   "cell_type": "markdown",
   "id": "81cb188c-504a-43ac-8e80-dc42700867d8",
   "metadata": {},
   "source": [
    "<br>"
   ]
  },
  {
   "cell_type": "markdown",
   "id": "9c41a6ee-f3f1-4d8d-be4d-dd07cb431a78",
   "metadata": {},
   "source": [
    "### Statistics for Two Categorical Variables \n",
    "\n",
    "Prepare the data"
   ]
  },
  {
   "cell_type": "code",
   "execution_count": null,
   "id": "32c62dd9-dfd2-41ed-b621-e0dbe9c9d8a3",
   "metadata": {},
   "outputs": [],
   "source": [
    "mortgage_df = pd.read_csv(\"mortgage.txt\", encoding=\"utf-8\", sep=\"|\")\n",
    "display(mortgage_df)"
   ]
  },
  {
   "cell_type": "code",
   "execution_count": null,
   "id": "c7342c93-de03-4b06-ba40-284719fe52ef",
   "metadata": {},
   "outputs": [],
   "source": [
    "mortgage_df.isna().sum()"
   ]
  },
  {
   "cell_type": "code",
   "execution_count": null,
   "id": "bf272d00-c855-4536-982c-7df960c4cff9",
   "metadata": {},
   "outputs": [],
   "source": [
    "print(mortgage_df[\"Default\"].unique())\n",
    "print(mortgage_df[\"Year\"].unique())"
   ]
  },
  {
   "cell_type": "code",
   "execution_count": null,
   "id": "730f68bf-75f0-411c-b879-3da16bbd7947",
   "metadata": {},
   "outputs": [],
   "source": [
    "print(mortgage_df[mortgage_df[\"Year\"] == \"-\"])\n",
    "\n",
    "# count the number of rows where 'Year' is '-'\n",
    "print(mortgage_df[mortgage_df[\"Year\"] == \"-\"].shape[0])"
   ]
  },
  {
   "cell_type": "code",
   "execution_count": null,
   "id": "7ed8ea2b-3144-46b1-95ca-8567bae8a6dc",
   "metadata": {},
   "outputs": [],
   "source": [
    "print(mortgage_df.shape)\n",
    "# remove rows where 'Year' is '-'\n",
    "mortgage_df = mortgage_df[mortgage_df[\"Year\"] != \"-\"].reset_index(drop=True)\n",
    "print(\"row dropped\")\n",
    "print(mortgage_df.shape)"
   ]
  },
  {
   "cell_type": "code",
   "execution_count": null,
   "id": "adce702f-eb16-423d-92b7-33fabae006eb",
   "metadata": {},
   "outputs": [],
   "source": [
    "# change the column to a categorical data type\n",
    "mortgage_df[\"Default\"] = mortgage_df[\"Default\"].astype(\"category\")\n",
    "mortgage_df[\"Year\"] = mortgage_df[\"Year\"].astype(\"category\")\n",
    "\n",
    "# verify it is a categorical data type\n",
    "print(mortgage_df[\"Default\"].dtypes)\n",
    "print(mortgage_df[\"Year\"].dtypes)\n"
   ]
  },
  {
   "cell_type": "markdown",
   "id": "fa2df80d-9e1b-4f30-aa8f-63261e70eb05",
   "metadata": {},
   "source": [
    "<br>"
   ]
  },
  {
   "cell_type": "markdown",
   "id": "7d220771-6685-425e-b776-dd6bfecbae1f",
   "metadata": {},
   "source": [
    "##### Compare frequency and proportion across groups"
   ]
  },
  {
   "cell_type": "code",
   "execution_count": null,
   "id": "7fc89004-b2d4-4888-8dd5-2278be6a30d1",
   "metadata": {},
   "outputs": [],
   "source": [
    "# create a frequency table for 'Default' and 'Year'\n",
    "frequency_table = pd.crosstab(mortgage_df[\"Default\"], mortgage_df[\"Year\"])\n",
    "\n",
    "# display the frequency table\n",
    "print(\"Frequency Table:\")\n",
    "print(frequency_table)\n"
   ]
  },
  {
   "cell_type": "markdown",
   "id": "6ccb3ef6-3437-47de-a2f2-078f8e8080cf",
   "metadata": {},
   "source": [
    "```.crosstab()``` is used to create a contingency table, which summarizes the relationship between two or more categorical variables. This table is a bit confusing. Notice the difference between the row index of 0 and 1 (far left) and the value (1 (defaulted) & 0 (not defaulted)."
   ]
  },
  {
   "cell_type": "markdown",
   "id": "64a7dc12-69b0-44c4-b4fa-b0dd9fb9ad3a",
   "metadata": {},
   "source": [
    "<font color=\"darkmagenta\">Interpretation: Number of non-defaults (0) stays fairly consistent from year to year, but more defaults increase in 2008 and 2009.</font>"
   ]
  },
  {
   "cell_type": "markdown",
   "id": "0b5d0919-468c-4be6-838a-efbf6b8f68c0",
   "metadata": {},
   "source": [
    "<br>"
   ]
  },
  {
   "cell_type": "markdown",
   "id": "9133d2f0-ddbe-4ce1-a1f9-24036c4ec067",
   "metadata": {},
   "source": [
    "##### Visualize the two categories with a stacked bar chart"
   ]
  },
  {
   "cell_type": "code",
   "execution_count": null,
   "id": "ccdf4a25-14a2-4d68-b8bf-17769996f49c",
   "metadata": {},
   "outputs": [],
   "source": [
    "# prepare the data: Melt the contingency table to long format\n",
    "default_year_table = pd.crosstab(mortgage_df[\"Year\"], mortgage_df[\"Default\"]).reset_index()\n",
    "default_year_table = pd.melt(default_year_table, id_vars=[\"Year\"], var_name=\"Default\", value_name=\"Count\")\n",
    "\n",
    "# convert 'Default' column to categorical with proper labels\n",
    "default_year_table[\"Default\"] = default_year_table[\"Default\"].astype(int).map({0: \"Non-Default\", 1: \"Default\"})\n",
    "\n",
    "# create the bar chart using Seaborn\n",
    "plt.figure(figsize=(10, 6))\n",
    "ax = sns.barplot(\n",
    "    data=default_year_table, \n",
    "    x=\"Year\", y=\"Count\", hue=\"Default\", \n",
    "    palette=[\"skyblue\", \"salmon\"]\n",
    ")\n",
    "\n",
    "# annotate each bar with its value\n",
    "for container in ax.containers:\n",
    "    ax.bar_label(container, fmt='%d', label_type='edge', fontsize=12)\n",
    "    # Annotate each bar with its value at the top of the bar\n",
    "\n",
    "# add title and labels\n",
    "plt.title(\"Number of Defaults vs. Non-Defaults per Year\", fontsize=16)\n",
    "plt.xlabel(\"Year\", fontsize=12)\n",
    "plt.ylabel(\"Count\", fontsize=12)\n",
    "\n",
    "# adjust the legend\n",
    "plt.legend(title=\"Status\", loc=\"upper center\", bbox_to_anchor=(0.5, -0.1), ncol=2, frameon=False)\n",
    "\n",
    "# display the plot\n",
    "plt.show()\n"
   ]
  },
  {
   "cell_type": "markdown",
   "id": "83032532-336c-4948-b197-a231ed7367e4",
   "metadata": {},
   "source": [
    "<font color=\"darkmagenta\">It looks like the number of non-defaults has remained steady, but the number of defaults seems to be increasing across the years.</font>"
   ]
  },
  {
   "cell_type": "markdown",
   "id": "5366f51b-020f-4343-92aa-3cf9aacd1b1c",
   "metadata": {},
   "source": [
    "<br>"
   ]
  },
  {
   "cell_type": "markdown",
   "id": "718678e8-275f-44db-9856-c79002736d27",
   "metadata": {},
   "source": [
    "##### Joint Probablility Distribution  \n",
    "Total of entire table = 100%  "
   ]
  },
  {
   "cell_type": "code",
   "execution_count": null,
   "id": "27ab7dab-0fa1-4736-9f69-6bf138df74e4",
   "metadata": {},
   "outputs": [],
   "source": [
    "# Create a contingency table (similar to table() in R)\n",
    "contingency_table = pd.crosstab(mortgage_df[\"Default\"], mortgage_df[\"Year\"])\n",
    "\n",
    "# Calculate the joint probability distribution\n",
    "joint_probability = round(contingency_table / contingency_table.values.sum(), 2)\n",
    "\n",
    "# Display the joint probability distribution\n",
    "print(\"Joint Probability Distribution:\")\n",
    "print(joint_probability)"
   ]
  },
  {
   "cell_type": "markdown",
   "id": "d1f2bcab-8bf0-45c1-a6ce-64d30863484c",
   "metadata": {},
   "source": [
    "<br>"
   ]
  },
  {
   "cell_type": "markdown",
   "id": "4dd28b82-332b-48dc-8e30-dd91edc5e4a2",
   "metadata": {},
   "source": [
    "##### Marginal probability  \n",
    "Compare by row (row-wise)  "
   ]
  },
  {
   "cell_type": "code",
   "execution_count": null,
   "id": "b96ed541-111a-4b42-8111-8d34358aa02c",
   "metadata": {},
   "outputs": [],
   "source": [
    "# create a contingency table for 'Default' and 'Year'\n",
    "contingency_table = pd.crosstab(mortgage_df[\"Default\"], mortgage_df[\"Year\"])"
   ]
  },
  {
   "cell_type": "code",
   "execution_count": null,
   "id": "b90e100f-8c22-4b84-92cb-44f2362e739f",
   "metadata": {},
   "outputs": [],
   "source": [
    "# calculate marginal probabilities by row (axis=1)\n",
    "marginal_probability_by_row = round(contingency_table.div(contingency_table.sum(axis=1), axis=0), 2)\n",
    "\n",
    "# display the marginal probability distribution (by row)\n",
    "print(\"Marginal Probability Distribution (by row):\")\n",
    "print(marginal_probability_by_row)\n"
   ]
  },
  {
   "cell_type": "markdown",
   "id": "6ce700ed-9c76-4d6e-8469-b82272999c07",
   "metadata": {},
   "source": [
    "<font color=\"darkmagenta\">Interpretation: Majority of defaults occurred in 2008 and 2009, but that non-defaults are distributed evenly over the 3-year span.</font>"
   ]
  },
  {
   "cell_type": "markdown",
   "id": "850cc38d-d228-4f63-a66b-6b55d65a818c",
   "metadata": {},
   "source": [
    "<br>"
   ]
  },
  {
   "cell_type": "markdown",
   "id": "4621b4af-87d1-4f4d-8a9d-b1c69f4f66bb",
   "metadata": {},
   "source": [
    "##### Marginal probability  \n",
    "Column-wise  "
   ]
  },
  {
   "cell_type": "code",
   "execution_count": null,
   "id": "92db649a-774d-4a64-923f-dbb33bd55e93",
   "metadata": {},
   "outputs": [],
   "source": [
    "# calculate marginal probabilities by column (axis=0)\n",
    "marginal_probability_by_column = round(contingency_table.div(contingency_table.sum(axis=0), axis=1), 2)\n",
    "\n",
    "# display the marginal probability distribution (by column)\n",
    "print(\"\\nMarginal Probability Distribution (by column):\")\n",
    "print(marginal_probability_by_column)\n"
   ]
  },
  {
   "cell_type": "markdown",
   "id": "6edbc3bf-360f-4104-8b67-6431f22e9335",
   "metadata": {},
   "source": [
    "<font color=\"darkmagenta\">Interpretation: Rate of default increased from 2007 (13% of mortgages) to 2008 (23%) to 2009 (30%)</font>"
   ]
  },
  {
   "cell_type": "markdown",
   "id": "dc17cdd9-4b57-4629-bea9-7a1957ea6fc8",
   "metadata": {},
   "source": [
    "<br>"
   ]
  },
  {
   "cell_type": "markdown",
   "id": "25bb5bcd-eb3c-4220-b586-be50ebb13ac4",
   "metadata": {},
   "source": [
    "<font color=\"darkmagenta\">But are the differences in default rates significant?  </font>  "
   ]
  },
  {
   "cell_type": "markdown",
   "id": "ca0223e9-0eef-4707-8cc9-cdcbf87902fb",
   "metadata": {},
   "source": [
    "<br>"
   ]
  },
  {
   "cell_type": "markdown",
   "id": "0d19e59e-557f-49f4-91a5-29f7d75a9809",
   "metadata": {},
   "source": [
    "#### Chi-Square Test of Independence\n",
    "  \n",
    "Tests if there is an association between two categorical variables. This test evaluates how likely it is that any observed differences arose purely by chance.  \n",
    "  \n",
    "Hypotheses:  \n",
    "Null Hypothesis (H<sub>0</sub>): The two variables are independent (no association) if _p-value > 0.05_.  \n",
    "Alternative Hypothesis (H<sub>1</sub>): The two variables are dependent (associated) if _p-value <= 0.05_.  "
   ]
  },
  {
   "cell_type": "code",
   "execution_count": null,
   "id": "c44c65bf-a2a7-419e-bcc4-c323127c2e38",
   "metadata": {},
   "outputs": [],
   "source": [
    "# create a contingency table for 'Default' and 'Year'\n",
    "contingency_table = pd.crosstab(mortgage_df[\"Default\"], mortgage_df[\"Year\"])\n",
    "\n",
    "# perform the chi-square test\n",
    "chi2_stat, p_value, dof, expected = chi2_contingency(contingency_table)\n",
    "\n",
    "# display the p-value and interpretation\n",
    "print(f\"Chi-Square Test p-value: {p_value:.4f}\")\n",
    "\n",
    "# set the significance level (alpha)\n",
    "alpha = 0.05\n",
    "\n",
    "# interpret the result\n",
    "if p_value <= alpha:\n",
    "    print(\"Reject H0: The number of defaults vs. non-defaults is related to the year.\")\n",
    "else:\n",
    "    print(\"Fail to reject H0: The number of defaults vs. non-defaults is independent of the year.\")\n"
   ]
  },
  {
   "cell_type": "markdown",
   "id": "ffdcf683-4554-4421-bffb-9ea840576bd5",
   "metadata": {},
   "source": [
    "<font color=\"darkmagenta\">Interpretation: p is much smaller than 0.05, thus we reject the null hypothesis that _Year_ and _Default_ are independent. _Year_ and _Default_ are dependent.</font>"
   ]
  },
  {
   "cell_type": "markdown",
   "id": "eeaa9698-630a-4684-a80c-130898220f9e",
   "metadata": {},
   "source": [
    "<br>"
   ]
  },
  {
   "cell_type": "markdown",
   "id": "5344073f-6f18-4ce5-aa76-7aa9961606e9",
   "metadata": {},
   "source": [
    "### Statistics for Two Continuous Variables"
   ]
  },
  {
   "cell_type": "markdown",
   "id": "8b8f8571-085b-4f1e-854a-3013a1baa744",
   "metadata": {},
   "source": [
    "#### Pearson Correlation (Linear Correlation)\n",
    "\n",
    "Correlation measures the **strength and direction of the linear relationship** between two continuous variables (e.g., height vs. weight).\n",
    "\n",
    "It quantifies the degree to which two variables move together and is commonly denoted by the correlation coefficient _**r**_, which ranges from -1 to 1.\n",
    "**_r_ = 1**: Perfect positive linear relationship (as one variable increases, the other also increases).\n",
    "**_r_ = -1**: Perfect negative linear relationship (as one variable increases, the other decreases).\n",
    "**_r_ = 0**: No linear relationship between the variables.\n",
    "\n",
    "The Pearson correlation assumes that the data is continuous and normally distributed.\n",
    "\n",
    "The Kendall or Spearman correlations may be more appropriate for comparing ordinal, rank data.\n"
   ]
  },
  {
   "cell_type": "code",
   "execution_count": null,
   "id": "e2dbdd17-4614-4c92-b5da-e80ddafb421d",
   "metadata": {},
   "outputs": [],
   "source": [
    "# calculate Pearson correlation between 'CreditScore' and 'HomeAge'\n",
    "pearson_corr = mortgage_df[\"CreditScore\"].corr(mortgage_df[\"HomeAge\"], method=\"pearson\")\n",
    "\n",
    "# display the result\n",
    "print(f\"Pearson Correlation: {pearson_corr:.4f}\")\n",
    "\n",
    "# interpretation\n",
    "if abs(pearson_corr) < 0.3:\n",
    "    print(\"Interpretation: No or weak linear correlation.\")\n",
    "elif 0.3 <= abs(pearson_corr) < 0.7:\n",
    "    print(\"Interpretation: Moderate linear correlation.\")\n",
    "else:\n",
    "    print(\"Interpretation: Strong linear correlation.\")"
   ]
  },
  {
   "cell_type": "markdown",
   "id": "ee896c76-e524-4df4-94a0-2f3a218513e2",
   "metadata": {},
   "source": [
    "<font color=\"darkmagenta\">Interpretation: No linear correlation.</font>"
   ]
  },
  {
   "cell_type": "markdown",
   "id": "cca40ffb-b527-44ee-a1fa-043507bf63fa",
   "metadata": {},
   "source": [
    "<br>"
   ]
  },
  {
   "cell_type": "markdown",
   "id": "49444e49-0e67-4321-9acf-32fcae34ed75",
   "metadata": {},
   "source": [
    "#### Pearson Correlation Test\n",
    "\n",
    "The Pearson correlation test is statistical hypothesis test that checks whether the linear relationship found in the Pearson correlation is statistically significant or if it could have occurred by chance. The test provides a _**p-value**_ to help make this decision.\n",
    "\n",
    "Hypothesis test for significant correlation.   \n",
    "H<sub>0</sub> = no correlation  \n",
    "H<sub>1</sub> = correlation!=0  \n",
    "\n"
   ]
  },
  {
   "cell_type": "code",
   "execution_count": null,
   "id": "0f281265-c5c1-4da7-8234-763256f3bd8b",
   "metadata": {},
   "outputs": [],
   "source": [
    "# perform the Pearson correlation test\n",
    "corr_stat, p_value = pearsonr(mortgage_df[\"CreditScore\"], mortgage_df[\"HomeAge\"])\n",
    "\n",
    "# display the correlation statistic and p-value\n",
    "print(f\"Pearson Correlation Coefficient: {corr_stat:.4f}\")\n",
    "print(f\"P-value: {p_value:.4f}\")\n",
    "\n",
    "# interpretation based on p-value\n",
    "alpha = 0.05  # significance level\n",
    "\n",
    "if p_value > alpha:\n",
    "    print(\"Fail to reject H0: No significant correlation (correlation = 0).\")\n",
    "else:\n",
    "    print(\"Reject H0: Significant correlation exists (correlation != 0).\")\n"
   ]
  },
  {
   "cell_type": "markdown",
   "id": "95d90b33-78b6-49fe-8f6c-105632eb45ca",
   "metadata": {},
   "source": [
    "<font color=\"darkmagenta\">Interpretation: p > 0.05, thus we fail to reject the null hypothesis that the correlation is 0. There is no correlation. </font>"
   ]
  },
  {
   "cell_type": "markdown",
   "id": "3cbbca02-e9e4-4a7a-9faf-218bcc6f9afd",
   "metadata": {},
   "source": [
    "<br>"
   ]
  },
  {
   "cell_type": "markdown",
   "id": "a4402a04-60f8-4a0a-92cb-52253a55775c",
   "metadata": {},
   "source": [
    "##### Visualize relationships between continuous variables with **scatter plot**."
   ]
  },
  {
   "cell_type": "code",
   "execution_count": null,
   "id": "7639373c-7198-46c4-9669-83d93d270449",
   "metadata": {},
   "outputs": [],
   "source": [
    "# create the scatter plot with a regression line using Seaborn\n",
    "plt.figure(figsize=(8, 6))\n",
    "sns.regplot(\n",
    "    x=\"CreditScore\", \n",
    "    y=\"HomeAge\", \n",
    "    data=mortgage_df, \n",
    "    scatter_kws={\"s\": 50},  # adjust size of scatter points\n",
    "    line_kws={\"color\": \"red\"},  # set line color\n",
    ")\n",
    "\n",
    "# add axis labels and title\n",
    "plt.xlabel(\"Credit Score\", fontsize=12)\n",
    "plt.ylabel(\"Home Age\", fontsize=12)\n",
    "plt.title(\"Scatter Plot of Credit Score vs. Home Age\", fontsize=16)\n",
    "\n",
    "# display the plot\n",
    "plt.show()"
   ]
  },
  {
   "cell_type": "markdown",
   "id": "f6bf2220-28e6-4cab-be83-9b2976b01de9",
   "metadata": {},
   "source": [
    "<font color=\"darkmagenta\">Interpretation: no linear relationship.</font>"
   ]
  }
 ],
 "metadata": {
  "kernelspec": {
   "display_name": "Python 3 (ipykernel)",
   "language": "python",
   "name": "python3"
  },
  "language_info": {
   "codemirror_mode": {
    "name": "ipython",
    "version": 3
   },
   "file_extension": ".py",
   "mimetype": "text/x-python",
   "name": "python",
   "nbconvert_exporter": "python",
   "pygments_lexer": "ipython3",
   "version": "3.12.2"
  }
 },
 "nbformat": 4,
 "nbformat_minor": 5
}
